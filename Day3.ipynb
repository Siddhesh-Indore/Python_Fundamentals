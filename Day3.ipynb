{
 "cells": [
  {
   "cell_type": "code",
   "execution_count": null,
   "id": "1f6cb948",
   "metadata": {},
   "outputs": [],
   "source": [
    "Methods::\n"
   ]
  },
  {
   "cell_type": "code",
   "execution_count": 1,
   "id": "b175ef57",
   "metadata": {},
   "outputs": [
    {
     "name": "stdout",
     "output_type": "stream",
     "text": [
      "rajesh robin\n"
     ]
    }
   ],
   "source": [
    "fullname='rajesh robin'\n",
    "print(fullname)"
   ]
  },
  {
   "cell_type": "code",
   "execution_count": 2,
   "id": "6c3a9da9",
   "metadata": {},
   "outputs": [
    {
     "name": "stdout",
     "output_type": "stream",
     "text": [
      "Rajesh Robin\n"
     ]
    }
   ],
   "source": [
    "print(fullname.title())\n"
   ]
  },
  {
   "cell_type": "code",
   "execution_count": 3,
   "id": "c29c91da",
   "metadata": {},
   "outputs": [
    {
     "name": "stdout",
     "output_type": "stream",
     "text": [
      "RAJESH ROBIN\n"
     ]
    }
   ],
   "source": [
    "print(fullname.upper())\n"
   ]
  },
  {
   "cell_type": "code",
   "execution_count": 4,
   "id": "1c0f2c1d",
   "metadata": {},
   "outputs": [
    {
     "name": "stdout",
     "output_type": "stream",
     "text": [
      "rajesh robin\n"
     ]
    }
   ],
   "source": [
    "print(fullname.lower())"
   ]
  },
  {
   "cell_type": "code",
   "execution_count": null,
   "id": "44edc4fc",
   "metadata": {},
   "outputs": [],
   "source": [
    "F strings::\n",
    "        "
   ]
  },
  {
   "cell_type": "code",
   "execution_count": 5,
   "id": "3a2a0123",
   "metadata": {},
   "outputs": [],
   "source": [
    "firstname='rajesh'\n",
    "lastname='yadhav'"
   ]
  },
  {
   "cell_type": "code",
   "execution_count": 10,
   "id": "5a9d98cc",
   "metadata": {},
   "outputs": [],
   "source": [
    "fullname=f\"{firstname} {lastname}\""
   ]
  },
  {
   "cell_type": "code",
   "execution_count": 11,
   "id": "a6b8be99",
   "metadata": {},
   "outputs": [
    {
     "name": "stdout",
     "output_type": "stream",
     "text": [
      "rajesh yadhav\n"
     ]
    }
   ],
   "source": [
    "print(fullname)"
   ]
  },
  {
   "cell_type": "code",
   "execution_count": null,
   "id": "44e1dfb8",
   "metadata": {},
   "outputs": [],
   "source": [
    "To aplause him:"
   ]
  },
  {
   "cell_type": "code",
   "execution_count": 12,
   "id": "ce1e730a",
   "metadata": {},
   "outputs": [],
   "source": [
    "message=f\"Keep it up and good work, {fullname.title()}\""
   ]
  },
  {
   "cell_type": "code",
   "execution_count": 13,
   "id": "0188e9b5",
   "metadata": {},
   "outputs": [
    {
     "name": "stdout",
     "output_type": "stream",
     "text": [
      "Keep it up and good work, Rajesh Yadhav\n"
     ]
    }
   ],
   "source": [
    "print(message)"
   ]
  },
  {
   "cell_type": "code",
   "execution_count": null,
   "id": "f85467f7",
   "metadata": {},
   "outputs": [],
   "source": [
    "Adding white space"
   ]
  },
  {
   "cell_type": "code",
   "execution_count": 14,
   "id": "67fbd45f",
   "metadata": {},
   "outputs": [
    {
     "name": "stdout",
     "output_type": "stream",
     "text": [
      "favourite_language:\n",
      "python\n",
      "c\n",
      "java\n",
      "c++\n",
      "pascal\n"
     ]
    }
   ],
   "source": [
    "print(\"favourite_language:\\npython\\nc\\njava\\nc++\\npascal\")"
   ]
  },
  {
   "cell_type": "code",
   "execution_count": null,
   "id": "eef6f45b",
   "metadata": {},
   "outputs": [],
   "source": [
    "Adding \\t"
   ]
  },
  {
   "cell_type": "code",
   "execution_count": 16,
   "id": "7b14af85",
   "metadata": {},
   "outputs": [
    {
     "name": "stdout",
     "output_type": "stream",
     "text": [
      "favourite_language:\n",
      "\tpython\n",
      "\tc\n",
      "\tjava\n",
      "\tc++\n",
      "\tpascal\n"
     ]
    }
   ],
   "source": [
    "print(\"favourite_language:\\n\\tpython\\n\\tc\\n\\tjava\\n\\tc++\\n\\tpascal\")"
   ]
  },
  {
   "cell_type": "code",
   "execution_count": null,
   "id": "40468112",
   "metadata": {},
   "outputs": [],
   "source": [
    "Removing whitespaces"
   ]
  },
  {
   "cell_type": "code",
   "execution_count": 17,
   "id": "da84fd2a",
   "metadata": {},
   "outputs": [],
   "source": [
    "name1='    setharam'"
   ]
  },
  {
   "cell_type": "code",
   "execution_count": 18,
   "id": "c08895ae",
   "metadata": {},
   "outputs": [],
   "source": [
    "name2='sethram    '"
   ]
  },
  {
   "cell_type": "markdown",
   "id": "d8b27b41",
   "metadata": {},
   "source": []
  },
  {
   "cell_type": "code",
   "execution_count": 20,
   "id": "07e1b526",
   "metadata": {},
   "outputs": [],
   "source": [
    "name3='    naveen    '"
   ]
  },
  {
   "cell_type": "code",
   "execution_count": 21,
   "id": "ef3fb196",
   "metadata": {},
   "outputs": [
    {
     "name": "stdout",
     "output_type": "stream",
     "text": [
      "setharam\n"
     ]
    }
   ],
   "source": [
    "print(name1.lstrip())"
   ]
  },
  {
   "cell_type": "code",
   "execution_count": 22,
   "id": "df68354b",
   "metadata": {},
   "outputs": [
    {
     "name": "stdout",
     "output_type": "stream",
     "text": [
      "sethram\n"
     ]
    }
   ],
   "source": [
    "print(name2.rstrip())"
   ]
  },
  {
   "cell_type": "code",
   "execution_count": 23,
   "id": "59860e77",
   "metadata": {},
   "outputs": [
    {
     "name": "stdout",
     "output_type": "stream",
     "text": [
      "naveen\n"
     ]
    }
   ],
   "source": [
    "print(name3.strip())"
   ]
  },
  {
   "cell_type": "code",
   "execution_count": null,
   "id": "aeb46f22",
   "metadata": {},
   "outputs": [],
   "source": []
  }
 ],
 "metadata": {
  "kernelspec": {
   "display_name": "Python 3",
   "language": "python",
   "name": "python3"
  },
  "language_info": {
   "codemirror_mode": {
    "name": "ipython",
    "version": 3
   },
   "file_extension": ".py",
   "mimetype": "text/x-python",
   "name": "python",
   "nbconvert_exporter": "python",
   "pygments_lexer": "ipython3",
   "version": "3.8.8"
  }
 },
 "nbformat": 4,
 "nbformat_minor": 5
}
