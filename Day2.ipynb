{
 "cells": [
  {
   "cell_type": "code",
   "execution_count": 2,
   "id": "0f38b3a8",
   "metadata": {},
   "outputs": [],
   "source": [
    "x=3\n",
    "y=5"
   ]
  },
  {
   "cell_type": "code",
   "execution_count": 3,
   "id": "f052deea",
   "metadata": {},
   "outputs": [
    {
     "name": "stdout",
     "output_type": "stream",
     "text": [
      "8\n"
     ]
    }
   ],
   "source": [
    "z=x+y\n",
    "print(z)"
   ]
  },
  {
   "cell_type": "code",
   "execution_count": 4,
   "id": "72159c34",
   "metadata": {},
   "outputs": [],
   "source": [
    "firstname=\"Faiyaz\"\n"
   ]
  },
  {
   "cell_type": "code",
   "execution_count": 5,
   "id": "11227e06",
   "metadata": {},
   "outputs": [
    {
     "name": "stdout",
     "output_type": "stream",
     "text": [
      "Faiyaz\n"
     ]
    }
   ],
   "source": [
    "print(firstname)"
   ]
  },
  {
   "cell_type": "code",
   "execution_count": 6,
   "id": "953f1517",
   "metadata": {},
   "outputs": [],
   "source": [
    "name1=\"Siddhesh\""
   ]
  },
  {
   "cell_type": "code",
   "execution_count": 7,
   "id": "49ae621f",
   "metadata": {},
   "outputs": [
    {
     "name": "stdout",
     "output_type": "stream",
     "text": [
      "Siddhesh\n"
     ]
    }
   ],
   "source": [
    "print(name1)"
   ]
  },
  {
   "cell_type": "code",
   "execution_count": null,
   "id": "4167bf1d",
   "metadata": {},
   "outputs": [],
   "source": [
    "name@ -----> gives an error\n"
   ]
  },
  {
   "cell_type": "code",
   "execution_count": 8,
   "id": "e8f9d302",
   "metadata": {},
   "outputs": [
    {
     "data": {
      "text/plain": [
       "str"
      ]
     },
     "execution_count": 8,
     "metadata": {},
     "output_type": "execute_result"
    }
   ],
   "source": [
    "type(name1)"
   ]
  },
  {
   "cell_type": "code",
   "execution_count": null,
   "id": "44f2c63d",
   "metadata": {},
   "outputs": [],
   "source": [
    "name allowed in 'a', \"a\", \"\"\"\"a\"\"\" "
   ]
  },
  {
   "cell_type": "code",
   "execution_count": null,
   "id": "aaa46396",
   "metadata": {},
   "outputs": [],
   "source": []
  },
  {
   "cell_type": "code",
   "execution_count": null,
   "id": "337213aa",
   "metadata": {},
   "outputs": [],
   "source": []
  },
  {
   "cell_type": "code",
   "execution_count": null,
   "id": "f892bdd8",
   "metadata": {},
   "outputs": [],
   "source": []
  }
 ],
 "metadata": {
  "kernelspec": {
   "display_name": "Python 3",
   "language": "python",
   "name": "python3"
  },
  "language_info": {
   "codemirror_mode": {
    "name": "ipython",
    "version": 3
   },
   "file_extension": ".py",
   "mimetype": "text/x-python",
   "name": "python",
   "nbconvert_exporter": "python",
   "pygments_lexer": "ipython3",
   "version": "3.8.8"
  }
 },
 "nbformat": 4,
 "nbformat_minor": 5
}
