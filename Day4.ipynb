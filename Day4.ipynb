{
 "cells": [
  {
   "cell_type": "code",
   "execution_count": null,
   "id": "29bf9668",
   "metadata": {},
   "outputs": [],
   "source": [
    "List"
   ]
  },
  {
   "cell_type": "code",
   "execution_count": 2,
   "id": "42e448e6",
   "metadata": {},
   "outputs": [],
   "source": [
    "students=['naveen','kranthi','hameed','john','farheen','swetha']"
   ]
  },
  {
   "cell_type": "code",
   "execution_count": 3,
   "id": "859a2e4c",
   "metadata": {},
   "outputs": [
    {
     "name": "stdout",
     "output_type": "stream",
     "text": [
      "['naveen', 'kranthi', 'hameed', 'john', 'farheen', 'swetha']\n"
     ]
    }
   ],
   "source": [
    "print(students)"
   ]
  },
  {
   "cell_type": "code",
   "execution_count": 4,
   "id": "62d4ff70",
   "metadata": {},
   "outputs": [
    {
     "data": {
      "text/plain": [
       "list"
      ]
     },
     "execution_count": 4,
     "metadata": {},
     "output_type": "execute_result"
    }
   ],
   "source": [
    "type(students)"
   ]
  },
  {
   "cell_type": "code",
   "execution_count": null,
   "id": "30947a89",
   "metadata": {},
   "outputs": [],
   "source": [
    "Accesing Elements"
   ]
  },
  {
   "cell_type": "code",
   "execution_count": 6,
   "id": "cb37f814",
   "metadata": {},
   "outputs": [
    {
     "name": "stdout",
     "output_type": "stream",
     "text": [
      "kranthi\n"
     ]
    }
   ],
   "source": [
    "print(students[1])"
   ]
  },
  {
   "cell_type": "code",
   "execution_count": 7,
   "id": "411f4406",
   "metadata": {},
   "outputs": [
    {
     "name": "stdout",
     "output_type": "stream",
     "text": [
      "John\n"
     ]
    }
   ],
   "source": [
    "print(students[3].title())"
   ]
  },
  {
   "cell_type": "code",
   "execution_count": null,
   "id": "a1801bb0",
   "metadata": {},
   "outputs": [],
   "source": [
    "Adding Elements to the list\n"
   ]
  },
  {
   "cell_type": "code",
   "execution_count": 8,
   "id": "206ebd63",
   "metadata": {},
   "outputs": [],
   "source": [
    "students.append('rafi')"
   ]
  },
  {
   "cell_type": "code",
   "execution_count": 9,
   "id": "617be552",
   "metadata": {},
   "outputs": [
    {
     "name": "stdout",
     "output_type": "stream",
     "text": [
      "['naveen', 'kranthi', 'hameed', 'john', 'farheen', 'swetha', 'rafi']\n"
     ]
    }
   ],
   "source": [
    "print(students)"
   ]
  },
  {
   "cell_type": "code",
   "execution_count": 10,
   "id": "ac38872a",
   "metadata": {},
   "outputs": [],
   "source": [
    "students.insert(2,'kiran')"
   ]
  },
  {
   "cell_type": "code",
   "execution_count": 11,
   "id": "db294abf",
   "metadata": {},
   "outputs": [
    {
     "name": "stdout",
     "output_type": "stream",
     "text": [
      "['naveen', 'kranthi', 'kiran', 'hameed', 'john', 'farheen', 'swetha', 'rafi']\n"
     ]
    }
   ],
   "source": [
    "print(students)"
   ]
  },
  {
   "cell_type": "code",
   "execution_count": null,
   "id": "b3bd1808",
   "metadata": {},
   "outputs": [],
   "source": [
    "Modify the Elements in the list"
   ]
  },
  {
   "cell_type": "code",
   "execution_count": 12,
   "id": "aa00908b",
   "metadata": {},
   "outputs": [],
   "source": [
    "students[0]='namita'"
   ]
  },
  {
   "cell_type": "code",
   "execution_count": 13,
   "id": "44a3b446",
   "metadata": {},
   "outputs": [
    {
     "name": "stdout",
     "output_type": "stream",
     "text": [
      "['namita', 'kranthi', 'kiran', 'hameed', 'john', 'farheen', 'swetha', 'rafi']\n"
     ]
    }
   ],
   "source": [
    "print(students)"
   ]
  },
  {
   "cell_type": "code",
   "execution_count": null,
   "id": "53a78da1",
   "metadata": {},
   "outputs": [],
   "source": [
    "Deleting an Element in the List"
   ]
  },
  {
   "cell_type": "code",
   "execution_count": 14,
   "id": "cf4ba574",
   "metadata": {},
   "outputs": [],
   "source": [
    "del students[2]"
   ]
  },
  {
   "cell_type": "code",
   "execution_count": 15,
   "id": "927b1581",
   "metadata": {},
   "outputs": [
    {
     "name": "stdout",
     "output_type": "stream",
     "text": [
      "['namita', 'kranthi', 'hameed', 'john', 'farheen', 'swetha', 'rafi']\n"
     ]
    }
   ],
   "source": [
    "print(students)"
   ]
  },
  {
   "cell_type": "code",
   "execution_count": null,
   "id": "c4c8e948",
   "metadata": {},
   "outputs": [],
   "source": []
  }
 ],
 "metadata": {
  "kernelspec": {
   "display_name": "Python 3",
   "language": "python",
   "name": "python3"
  },
  "language_info": {
   "codemirror_mode": {
    "name": "ipython",
    "version": 3
   },
   "file_extension": ".py",
   "mimetype": "text/x-python",
   "name": "python",
   "nbconvert_exporter": "python",
   "pygments_lexer": "ipython3",
   "version": "3.8.8"
  }
 },
 "nbformat": 4,
 "nbformat_minor": 5
}
