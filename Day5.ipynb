{
 "cells": [
  {
   "cell_type": "code",
   "execution_count": null,
   "id": "8c2bc635",
   "metadata": {},
   "outputs": [],
   "source": [
    "Organising List Data types:"
   ]
  },
  {
   "cell_type": "code",
   "execution_count": null,
   "id": "9a7fc752",
   "metadata": {},
   "outputs": [],
   "source": [
    "In alphabetical order:"
   ]
  },
  {
   "cell_type": "code",
   "execution_count": 1,
   "id": "29f4bd83",
   "metadata": {},
   "outputs": [],
   "source": [
    "cars=['kia','benz','audi','bmw','suzuki','maruti']"
   ]
  },
  {
   "cell_type": "code",
   "execution_count": 2,
   "id": "0980d421",
   "metadata": {},
   "outputs": [
    {
     "name": "stdout",
     "output_type": "stream",
     "text": [
      "['kia', 'benz', 'audi', 'bmw', 'suzuki', 'maruti']\n"
     ]
    }
   ],
   "source": [
    "print(cars)"
   ]
  },
  {
   "cell_type": "code",
   "execution_count": null,
   "id": "553730ff",
   "metadata": {},
   "outputs": [],
   "source": [
    "Temporary method:"
   ]
  },
  {
   "cell_type": "code",
   "execution_count": 3,
   "id": "57ff9c86",
   "metadata": {},
   "outputs": [
    {
     "name": "stdout",
     "output_type": "stream",
     "text": [
      "['audi', 'benz', 'bmw', 'kia', 'maruti', 'suzuki']\n"
     ]
    }
   ],
   "source": [
    "print(sorted(cars))"
   ]
  },
  {
   "cell_type": "code",
   "execution_count": 4,
   "id": "035efd14",
   "metadata": {},
   "outputs": [
    {
     "name": "stdout",
     "output_type": "stream",
     "text": [
      "['kia', 'benz', 'audi', 'bmw', 'suzuki', 'maruti']\n"
     ]
    }
   ],
   "source": [
    "print(cars)"
   ]
  },
  {
   "cell_type": "code",
   "execution_count": null,
   "id": "7f0d5038",
   "metadata": {},
   "outputs": [],
   "source": [
    "Permanent method:"
   ]
  },
  {
   "cell_type": "code",
   "execution_count": 5,
   "id": "3eb8c3b6",
   "metadata": {},
   "outputs": [],
   "source": [
    "cars.sort()"
   ]
  },
  {
   "cell_type": "code",
   "execution_count": 6,
   "id": "94747b59",
   "metadata": {},
   "outputs": [
    {
     "name": "stdout",
     "output_type": "stream",
     "text": [
      "['audi', 'benz', 'bmw', 'kia', 'maruti', 'suzuki']\n"
     ]
    }
   ],
   "source": [
    "print(cars)"
   ]
  },
  {
   "cell_type": "code",
   "execution_count": null,
   "id": "73926235",
   "metadata": {},
   "outputs": [],
   "source": [
    "Reversing the list"
   ]
  },
  {
   "cell_type": "code",
   "execution_count": 7,
   "id": "e692e728",
   "metadata": {},
   "outputs": [],
   "source": [
    "cars.reverse()"
   ]
  },
  {
   "cell_type": "code",
   "execution_count": 8,
   "id": "0e6b06ff",
   "metadata": {},
   "outputs": [
    {
     "name": "stdout",
     "output_type": "stream",
     "text": [
      "['suzuki', 'maruti', 'kia', 'bmw', 'benz', 'audi']\n"
     ]
    }
   ],
   "source": [
    "print(cars)"
   ]
  },
  {
   "cell_type": "code",
   "execution_count": null,
   "id": "24d89401",
   "metadata": {},
   "outputs": [],
   "source": [
    "Counting number of Elements"
   ]
  },
  {
   "cell_type": "code",
   "execution_count": 9,
   "id": "a500f6d1",
   "metadata": {},
   "outputs": [
    {
     "data": {
      "text/plain": [
       "6"
      ]
     },
     "execution_count": 9,
     "metadata": {},
     "output_type": "execute_result"
    }
   ],
   "source": [
    "len(cars)"
   ]
  },
  {
   "cell_type": "code",
   "execution_count": null,
   "id": "ea10f001",
   "metadata": {},
   "outputs": [],
   "source": [
    "Slicing of List:"
   ]
  },
  {
   "cell_type": "code",
   "execution_count": 10,
   "id": "9ce8a4fa",
   "metadata": {},
   "outputs": [],
   "source": [
    "students=['suvedita','farheen','kumar','imran','surya','hameed']"
   ]
  },
  {
   "cell_type": "code",
   "execution_count": null,
   "id": "f19f21fd",
   "metadata": {},
   "outputs": [],
   "source": [
    "Include suvedita and farheen"
   ]
  },
  {
   "cell_type": "code",
   "execution_count": 11,
   "id": "429c872c",
   "metadata": {},
   "outputs": [
    {
     "name": "stdout",
     "output_type": "stream",
     "text": [
      "['suvedita']\n"
     ]
    }
   ],
   "source": [
    "print(students[0:1])"
   ]
  },
  {
   "cell_type": "code",
   "execution_count": 12,
   "id": "e76e936b",
   "metadata": {},
   "outputs": [
    {
     "name": "stdout",
     "output_type": "stream",
     "text": [
      "['suvedita', 'farheen']\n"
     ]
    }
   ],
   "source": [
    "print(students[0:2])"
   ]
  },
  {
   "cell_type": "code",
   "execution_count": null,
   "id": "37d3939b",
   "metadata": {},
   "outputs": [],
   "source": [
    "Include Kumar and Imran"
   ]
  },
  {
   "cell_type": "code",
   "execution_count": 13,
   "id": "819d2778",
   "metadata": {},
   "outputs": [
    {
     "name": "stdout",
     "output_type": "stream",
     "text": [
      "['kumar', 'imran']\n"
     ]
    }
   ],
   "source": [
    "print(students[2:4])"
   ]
  },
  {
   "cell_type": "code",
   "execution_count": null,
   "id": "4cb6237d",
   "metadata": {},
   "outputs": [],
   "source": [
    "Include Surya and hameed"
   ]
  },
  {
   "cell_type": "code",
   "execution_count": 14,
   "id": "d0bc9f32",
   "metadata": {},
   "outputs": [
    {
     "name": "stdout",
     "output_type": "stream",
     "text": [
      "['surya', 'hameed']\n"
     ]
    }
   ],
   "source": [
    "print(students[4:6])"
   ]
  },
  {
   "cell_type": "code",
   "execution_count": null,
   "id": "4b66b405",
   "metadata": {},
   "outputs": [],
   "source": [
    "Include alternate students"
   ]
  },
  {
   "cell_type": "code",
   "execution_count": 15,
   "id": "8f12c9e5",
   "metadata": {},
   "outputs": [
    {
     "name": "stdout",
     "output_type": "stream",
     "text": [
      "['suvedita', 'kumar', 'surya']\n"
     ]
    }
   ],
   "source": [
    "print(students[0:6:2])"
   ]
  },
  {
   "cell_type": "code",
   "execution_count": null,
   "id": "dab7302c",
   "metadata": {},
   "outputs": [],
   "source": []
  },
  {
   "cell_type": "code",
   "execution_count": null,
   "id": "960530b9",
   "metadata": {},
   "outputs": [],
   "source": []
  },
  {
   "cell_type": "code",
   "execution_count": null,
   "id": "4f5aaa5e",
   "metadata": {},
   "outputs": [],
   "source": []
  }
 ],
 "metadata": {
  "kernelspec": {
   "display_name": "Python 3",
   "language": "python",
   "name": "python3"
  },
  "language_info": {
   "codemirror_mode": {
    "name": "ipython",
    "version": 3
   },
   "file_extension": ".py",
   "mimetype": "text/x-python",
   "name": "python",
   "nbconvert_exporter": "python",
   "pygments_lexer": "ipython3",
   "version": "3.8.8"
  }
 },
 "nbformat": 4,
 "nbformat_minor": 5
}
